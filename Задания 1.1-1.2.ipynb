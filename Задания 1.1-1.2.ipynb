{
 "cells": [
  {
   "cell_type": "markdown",
   "metadata": {},
   "source": [
    "### Задача №1.1. Вариант 24."
   ]
  },
  {
   "cell_type": "markdown",
   "metadata": {},
   "source": [
    "#### Пункт 1"
   ]
  },
  {
   "cell_type": "code",
   "execution_count": 4,
   "metadata": {},
   "outputs": [],
   "source": [
    "from scipy.optimize import linprog"
   ]
  },
  {
   "cell_type": "code",
   "execution_count": 6,
   "metadata": {},
   "outputs": [
    {
     "data": {
      "text/plain": [
       "     con: array([8.8817842e-16, 0.0000000e+00, 0.0000000e+00])\n",
       "     fun: -2.999999999999999\n",
       " message: 'Optimization terminated successfully.'\n",
       "     nit: 4\n",
       "   slack: array([], dtype=float64)\n",
       "  status: 0\n",
       " success: True\n",
       "       x: array([2., 2., 7., 0., 0.])"
      ]
     },
     "execution_count": 6,
     "metadata": {},
     "output_type": "execute_result"
    }
   ],
   "source": [
    "c = [1, 1, -1, 0, 1]\n",
    "A = [[-3, 1, 1, 0, 0], [4, 2, 0, -1, 0], [2, -1, 0, 0, 1]]\n",
    "b = [3, 12,2]\n",
    "res = linprog(c, A_eq=A, b_eq=b, method = 'simplex')\n",
    "res"
   ]
  },
  {
   "cell_type": "markdown",
   "metadata": {},
   "source": [
    "Оптимизация выполнена успешно, ответ: x1 = 2, x2 = 2, x3 = 7, x4 = 0, x5 = 0."
   ]
  },
  {
   "cell_type": "markdown",
   "metadata": {},
   "source": [
    "#### Пункт 2"
   ]
  },
  {
   "cell_type": "code",
   "execution_count": 7,
   "metadata": {},
   "outputs": [
    {
     "data": {
      "text/plain": [
       "     con: array([7.10542736e-15, 0.00000000e+00, 0.00000000e+00])\n",
       "     fun: -15.0\n",
       " message: 'Optimization terminated successfully.'\n",
       "     nit: 5\n",
       "   slack: array([], dtype=float64)\n",
       "  status: 0\n",
       " success: True\n",
       "       x: array([ 0.,  0.,  3., 10., 15.])"
      ]
     },
     "execution_count": 7,
     "metadata": {},
     "output_type": "execute_result"
    }
   ],
   "source": [
    "c = [2, 0, 0, 0, -1]\n",
    "A = [[1, 8, 2, 0, 3], [3, 1, 0, 1, 1], [2, -1, 0, 1, 0]]\n",
    "b = [51, 25, 10]\n",
    "res = linprog(c, A_eq=A, b_eq=b, method = 'simplex')\n",
    "res"
   ]
  },
  {
   "cell_type": "markdown",
   "metadata": {},
   "source": [
    "Ответ: x1 = 0, x2 = 0, x3 = 3, x4 = 10, x5 = 15."
   ]
  },
  {
   "cell_type": "markdown",
   "metadata": {},
   "source": [
    "#### Пункт 3"
   ]
  },
  {
   "cell_type": "code",
   "execution_count": 11,
   "metadata": {},
   "outputs": [
    {
     "data": {
      "text/plain": [
       "     con: array([], dtype=float64)\n",
       "     fun: -6.833333333333334\n",
       " message: 'Optimization terminated successfully.'\n",
       "     nit: 4\n",
       "   slack: array([-8.88178420e-16,  2.06666667e+01,  0.00000000e+00])\n",
       "  status: 0\n",
       " success: True\n",
       "       x: array([1.16666667, 5.66666667])"
      ]
     },
     "execution_count": 11,
     "metadata": {},
     "output_type": "execute_result"
    }
   ],
   "source": [
    "c = [-1, -1]\n",
    "A = [[-4, 1], [2, -3], [2, 1]]\n",
    "b = [1, 6, 8]\n",
    "x0_bounds = (0, None)\n",
    "x1_bounds = (0, None)\n",
    "res = linprog(c, A_ub=A, b_ub=b, bounds = [x0_bounds, x1_bounds], method = 'simplex')\n",
    "res"
   ]
  },
  {
   "cell_type": "markdown",
   "metadata": {},
   "source": [
    "Ответ: x1 = 1.67, x2 = 5.67"
   ]
  },
  {
   "cell_type": "markdown",
   "metadata": {},
   "source": [
    "#### Пункт 4"
   ]
  },
  {
   "cell_type": "code",
   "execution_count": 12,
   "metadata": {},
   "outputs": [
    {
     "data": {
      "text/plain": [
       "     con: array([], dtype=float64)\n",
       "     fun: 54.0\n",
       " message: 'Optimization terminated successfully.'\n",
       "     nit: 2\n",
       "   slack: array([0., 0.])\n",
       "  status: 0\n",
       " success: True\n",
       "       x: array([0.        , 2.14285714, 0.42857143])"
      ]
     },
     "execution_count": 12,
     "metadata": {},
     "output_type": "execute_result"
    }
   ],
   "source": [
    "c = [-11, 24, 6]\n",
    "A = [[11, -1, -2], [-1, -2, 3]]\n",
    "b = [-3, -3]\n",
    "x0_bounds = (0, None)\n",
    "x1_bounds = (0, None)\n",
    "x2_bounds = (0, None)\n",
    "res = linprog(c, A_ub=A, b_ub=b, bounds = [x0_bounds, x1_bounds, x2_bounds], method = 'simplex')\n",
    "res"
   ]
  },
  {
   "cell_type": "markdown",
   "metadata": {},
   "source": [
    "Ответ: x1 = 0, x2 = 2.14, x3 = 0.43"
   ]
  },
  {
   "cell_type": "markdown",
   "metadata": {},
   "source": [
    "### Задача 1.2"
   ]
  },
  {
   "cell_type": "markdown",
   "metadata": {},
   "source": [
    "#### Вариант 70"
   ]
  },
  {
   "cell_type": "code",
   "execution_count": 14,
   "metadata": {},
   "outputs": [
    {
     "data": {
      "text/plain": [
       "     con: array([], dtype=float64)\n",
       "     fun: -2475.0\n",
       " message: 'Optimization terminated successfully.'\n",
       "     nit: 5\n",
       "   slack: array([1.52962963, 0.        , 0.        , 0.        ])\n",
       "  status: 0\n",
       " success: True\n",
       "       x: array([ 370.37037037,  479.62962963, 1625.        ])"
      ]
     },
     "execution_count": 14,
     "metadata": {},
     "output_type": "execute_result"
    }
   ],
   "source": [
    "c = [-1, -1, -1]\n",
    "A = [[0.032, 0.031, 0.038], [0.02, 0.02, 0.008], [0.005, 0.005, 0.006], [10.2, 7.5, 5.8]]\n",
    "b = [90, 30, 14, 16800]\n",
    "x0_bounds = (350, None)\n",
    "x1_bounds = (290, None)\n",
    "x2_bounds = (1200, None)\n",
    "res = linprog(c, A_ub=A, b_ub=b, bounds = [x0_bounds, x1_bounds, x2_bounds], method = 'simplex')\n",
    "res"
   ]
  },
  {
   "cell_type": "markdown",
   "metadata": {},
   "source": [
    "Ответ: трельяжей нужно выпустить 371, трюмо – 480, тумбочек – 1625."
   ]
  },
  {
   "cell_type": "markdown",
   "metadata": {},
   "source": [
    "#### Вариант 71"
   ]
  },
  {
   "cell_type": "code",
   "execution_count": 18,
   "metadata": {},
   "outputs": [
    {
     "data": {
      "text/plain": [
       "     con: array([], dtype=float64)\n",
       "     fun: -4414.5\n",
       " message: 'Optimization terminated successfully.'\n",
       "     nit: 6\n",
       "   slack: array([ 12.05,   0.  ,   1.7 , 219.  ])\n",
       "  status: 0\n",
       " success: True\n",
       "       x: array([ 730.,  290., 1200.])"
      ]
     },
     "execution_count": 18,
     "metadata": {},
     "output_type": "execute_result"
    }
   ],
   "source": [
    "c = [-4.19, -3.02, -0.4]\n",
    "A = [[0.032, 0.031, 0.038], [0.02, 0.02, 0.008], [0.005, 0.005, 0.006], [10.2, 7.5, 5.8]]\n",
    "b = [90, 30, 14, 16800]\n",
    "x0_bounds = (350, None)\n",
    "x1_bounds = (290, None)\n",
    "x2_bounds = (1200, None)\n",
    "res = linprog(c, A_ub=A, b_ub=b, bounds = [x0_bounds, x1_bounds, x2_bounds], method = 'simplex')\n",
    "res"
   ]
  },
  {
   "cell_type": "markdown",
   "metadata": {},
   "source": [
    "Ответ: трильяжей нужно 730, трюмо – 290 и тумбочек – 1200."
   ]
  },
  {
   "cell_type": "markdown",
   "metadata": {},
   "source": [
    "#### Вариант 72"
   ]
  },
  {
   "cell_type": "code",
   "execution_count": 20,
   "metadata": {},
   "outputs": [
    {
     "data": {
      "text/plain": [
       "     con: array([], dtype=float64)\n",
       "     fun: -91.0\n",
       " message: 'Optimization terminated successfully.'\n",
       "     nit: 4\n",
       "   slack: array([0.])\n",
       "  status: 0\n",
       " success: True\n",
       "       x: array([0.  , 1.75])"
      ]
     },
     "execution_count": 20,
     "metadata": {},
     "output_type": "execute_result"
    }
   ],
   "source": [
    "c = [-119, -52]\n",
    "A = [[22, 8]]\n",
    "b = [14]\n",
    "x0_bounds = (0, 440)\n",
    "x1_bounds = (0, 720)\n",
    "res = linprog(c, A_ub=A, b_ub=b, bounds = [x0_bounds, x1_bounds], method = 'simplex')\n",
    "res"
   ]
  },
  {
   "cell_type": "markdown",
   "metadata": {},
   "source": [
    "Ответ: больших шайб - 0, маленьких - 1750."
   ]
  }
 ],
 "metadata": {
  "kernelspec": {
   "display_name": "Python 3",
   "language": "python",
   "name": "python3"
  },
  "language_info": {
   "codemirror_mode": {
    "name": "ipython",
    "version": 3
   },
   "file_extension": ".py",
   "mimetype": "text/x-python",
   "name": "python",
   "nbconvert_exporter": "python",
   "pygments_lexer": "ipython3",
   "version": "3.7.4"
  }
 },
 "nbformat": 4,
 "nbformat_minor": 4
}
